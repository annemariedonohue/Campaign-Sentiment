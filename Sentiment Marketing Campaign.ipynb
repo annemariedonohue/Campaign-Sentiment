{
 "cells": [
  {
   "cell_type": "markdown",
   "id": "981c9be7",
   "metadata": {},
   "source": [
    "## Sentiment change pre/post marketing campaign "
   ]
  },
  {
   "cell_type": "markdown",
   "id": "ed97e43b",
   "metadata": {},
   "source": [
    "### Sentiment Pre Campaign "
   ]
  },
  {
   "cell_type": "code",
   "execution_count": null,
   "id": "b9dcb206",
   "metadata": {},
   "outputs": [],
   "source": [
    "import pandas as pd\n",
    "import nltk\n",
    "from nltk import FreqDist\n",
    "from nltk.corpus import stopwords\n",
    "import pandas as pd\n",
    "import numpy as np\n",
    "import matplotlib\n",
    "from matplotlib import pyplot as plt\n",
    "from nltk.tokenize import word_tokenize\n",
    "nltk.download('stopwords')\n",
    "nltk.download('punkt')\n",
    "\n",
    "\n",
    "titles=pd.read_excel('pre_articles.xlsx')\n",
    "df=pd.DataFrame()\n",
    "df['article']=titles.content_snippet+titles.content+titles.title\n",
    "data=df.article.str.lower()\n",
    "data"
   ]
  },
  {
   "cell_type": "code",
   "execution_count": null,
   "id": "95581569",
   "metadata": {},
   "outputs": [],
   "source": [
    "def count_pos_neg(data, positive_dict, negative_dict):\n",
    "# count of positive and negative words that appeared in each message\n",
    "# net count which is calculated by positive count subtracting negative count. \n",
    "    poscnt = []\n",
    "    negcnt = []\n",
    "    netcnt = []\n",
    "\n",
    "    for nrow in range(0,len(data)):\n",
    "        text = data[nrow]\n",
    "        \n",
    "        qa = 0\n",
    "        qb = 0\n",
    "\n",
    "        for word in positive_dict :\n",
    "            if (word in text) :\n",
    "                qa = qa + 1\n",
    "\n",
    "        for word in negative_dict :\n",
    "            if (word in text) :\n",
    "                qb = qb + 1\n",
    "\n",
    "        qc = qa - qb\n",
    "\n",
    "        poscnt.append(qa)\n",
    "        negcnt.append(qb)\n",
    "        netcnt.append(qc)\n",
    "\n",
    "    return (poscnt, negcnt, netcnt)"
   ]
  },
  {
   "cell_type": "code",
   "execution_count": null,
   "id": "8185f713",
   "metadata": {},
   "outputs": [],
   "source": [
    "nltk.download('vader_lexicon')\n",
    "from nltk.sentiment import SentimentIntensityAnalyzer\n",
    "\n",
    "sia = SentimentIntensityAnalyzer()\n",
    "for x in data:\n",
    "  scores=sia.polarity_scores(x)\n",
    "scores = [sia.polarity_scores(sentence) for sentence in data]\n",
    "\n",
    "neg_s_n = [i[\"neg\"] for i in scores]\n",
    "neu_s_n = [i[\"neu\"] for i in scores]\n",
    "pos_s_n = [i[\"pos\"] for i in scores]\n",
    "compound_s_n = [i[\"compound\"] for i in scores]\n",
    "df['negscore_NLTK'], df['neuscore_NLTK'], df['posscore_NLTK'], df['compound_NLTK'] = neg_s_n, neu_s_n, pos_s_n, compound_s_n\n",
    "df[['article','negscore_NLTK','neuscore_NLTK','posscore_NLTK','compound_NLTK']].head(5)"
   ]
  },
  {
   "cell_type": "code",
   "execution_count": null,
   "id": "6b06fce2",
   "metadata": {},
   "outputs": [],
   "source": [
    "sentiment=pd.DataFrame()\n",
    "sentiment['Pre: Negative Sentiment'], sentiment['Pre: Positive Sentiment'], sentiment['Pre: Neutral Sentiment'], sentiment['Compound Score']=df.negscore_NLTK, df.posscore_NLTK, df.neuscore_NLTK, df.compound_NLTK"
   ]
  },
  {
   "cell_type": "markdown",
   "id": "ea4fafc2",
   "metadata": {},
   "source": [
    "### Sentiment Post Campaign "
   ]
  },
  {
   "cell_type": "code",
   "execution_count": null,
   "id": "ffb266f8",
   "metadata": {},
   "outputs": [],
   "source": [
    "title=pd.read_excel('post_articles.xlsx')\n",
    "df_after=pd.DataFrame()\n",
    "df_after['article']=title.title+title.content+title.content_snippet\n",
    "data1=df_after.article.str.lower()\n",
    "\n",
    "sia = SentimentIntensityAnalyzer()\n",
    "scores = [sia.polarity_scores(str(x)) for x in data1]\n",
    "\n",
    "neg_s_n = [i[\"neg\"] for i in scores]\n",
    "neu_s_n = [i[\"neu\"] for i in scores]\n",
    "pos_s_n = [i[\"pos\"] for i in scores]\n",
    "compound_s_n = [i[\"compound\"] for i in scores]\n",
    "df_after['negscore_NLTK'], df_after['neuscore_NLTK'], df_after['posscore_NLTK'], df_after['compound_NLTK'] = neg_s_n, neu_s_n, pos_s_n, compound_s_n\n",
    "df_after[['article','negscore_NLTK','neuscore_NLTK','posscore_NLTK','compound_NLTK']].head(5)"
   ]
  },
  {
   "cell_type": "code",
   "execution_count": null,
   "id": "5bab144f",
   "metadata": {},
   "outputs": [],
   "source": [
    "sentiment['Post: Negative Sentiment'], sentiment['Post: Positive Sentiment'], sentiment['Post: Neutral Sentiment'], sentiment['Post: Compound Score']=df_after.negscore_NLTK, df_after.posscore_NLTK, df_after.neuscore_NLTK, df_after.compound_NLTK\n",
    "#sentiment.to_excel(\"Pre+Post Sentiment.xlsx\")\n",
    "sentiment"
   ]
  },
  {
   "cell_type": "code",
   "execution_count": null,
   "id": "25037c2b",
   "metadata": {},
   "outputs": [],
   "source": [
    "# Import libraries\n",
    "import matplotlib.pyplot as plt\n",
    "import numpy as np\n",
    " \n",
    " \n",
    "# Creating dataset\n",
    "np.random.seed(1000)\n",
    "\n",
    "data = [sentiment['Pre: Positive Sentiment'], sentiment['Post: Positive Sentiment'], sentiment['Pre: Negative Sentiment'], sentiment['Post: Negative Sentiment']]\n",
    " \n",
    "fig = plt.figure(figsize =(8, 5))\n",
    "ax = fig.add_axes([0, 0, 1, 1])\n",
    "bp = ax.boxplot(data)\n",
    "plt.xlabel(\"Time\")\n",
    "plt.ylabel(\"Sentiment\")\n",
    "plt.title('Campaign Sentiment')\n",
    "ax.set_xticklabels(['Pre Campaign Positive', 'Post Campaign Positive', 'Pre Campaign Negative', 'Post Campaign Negative'])\n",
    "\n",
    "\n",
    "point1 = [1, sentiment['Pre: Positive Sentiment'].median()]\n",
    "point2 = [2, sentiment['Post: Positive Sentiment'].median()]\n",
    "point3 = [3, sentiment['Pre: Negative Sentiment'].median()]\n",
    "point4 = [4, sentiment['Post: Negative Sentiment'].median()]\n",
    "\n",
    "x_values = [point1[0], point2[0]]\n",
    "y_values = [point1[1], point2[1]]\n",
    "z_values = [point3[0], point4[0]]\n",
    "w_values = [point3[1], point4[1]]\n",
    "\n",
    "plt.plot(x_values, y_values, linestyle='--', color='blue')\n",
    "\n",
    "plt.plot(z_values, w_values, linestyle='--', color='blue')\n",
    "fig = plt.figure(figsize =(8, 5))\n",
    "plt.show()"
   ]
  },
  {
   "cell_type": "code",
   "execution_count": null,
   "id": "106080b1",
   "metadata": {},
   "outputs": [],
   "source": []
  }
 ],
 "metadata": {
  "kernelspec": {
   "display_name": "Python 3",
   "language": "python",
   "name": "python3"
  },
  "language_info": {
   "codemirror_mode": {
    "name": "ipython",
    "version": 3
   },
   "file_extension": ".py",
   "mimetype": "text/x-python",
   "name": "python",
   "nbconvert_exporter": "python",
   "pygments_lexer": "ipython3",
   "version": "3.8.8"
  }
 },
 "nbformat": 4,
 "nbformat_minor": 5
}
